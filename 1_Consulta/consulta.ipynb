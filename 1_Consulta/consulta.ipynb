{
  "nbformat": 4,
  "nbformat_minor": 0,
  "metadata": {
    "colab": {
      "provenance": []
    },
    "kernelspec": {
      "name": "python3",
      "display_name": "Python 3"
    },
    "language_info": {
      "name": "python"
    }
  },
  "cells": [
    {
      "cell_type": "markdown",
      "source": [
        "# Como se calcula Fourier cuando las muestras no están uniformemente muestreadas?\n",
        "El proceso para calcular la transformada de Fourier de una serie de tiempo cuyas muestras no están uniformemente espaciadas se realiza mediante la Transformadada de Fourier no unifome (NUDFT).\n",
        "De acuerdo a este [artículo](https://pmc-ncbi-nlm-nih-gov.translate.goog/articles/PMC5776146/?_x_tr_sl=en&_x_tr_tl=es&_x_tr_hl=es&_x_tr_pto=tc) de la Librería Nacional de Medicina del centro Nacional para la Información de Biotecnología del gobierno de los Estados Unidos, al realizar un muestreado en una dimesión usamos la siguiende definición de la DFT:\n",
        "\n",
        "$$f_n = \\frac{1}{\\sqrt{N}}\\sum_{k=0}^{N-1}d_ke^{-2\\pi ikn/N}$$\n",
        "\n",
        "La periodicidad se define de forma implicita en dicha expresión.\n",
        "\n",
        "Desde la definición de la DFT está claro que la suma de Fourier puede ser modificada evalueando el sumando a frecuencias arbitrarias en lugar de frecuencias uniformemente espaciadas. Esto nos ofrece múltiples alternativas para tratar así mismo con muestras no uniformes.\n",
        "\n",
        "## Métodos de predicción lineal:\n",
        "Consiste en asumir que la señal puede ser descrita como una combinación lineal de los valores pasados. Se busca extrapolar un expectro basado en los pesos de la combinación lineal de los senos.\n",
        "\n",
        "## Análisis bayesiano:\n",
        "Usando métodos de máxima verosimilitud y análisis bayesiano es posible, esto para compensar las limitaciones dadas por la necesidad de una estimación a priori en los métodos de predicción lineal. La aproximación en este caso de los métodos de máxima verosimilitud y análisis bayesiano es determinar el número de sinusoides en el model usando métodos estadísitcos.\n",
        "\n",
        "Existen otros métodos para realizar dicha transformación como Back-Projection Reconstruction (BPR), APSY. Sin embargo estos presumen de que aunque las muestras no están uniformemente espaciadas siguen un patrón.\n",
        "\n",
        "## nuDFT\n",
        "Si las muestras se pueden acumular en una \"malla\" (grid) uniforme, es posible insertar ceros en los puntos donde la data no ha sido muestreada y tratarlo como un conjunto de datos regularmente espaciado. Sin embargo esta simplificación puede conllevar a tener unas bases que ya no son ortonormales y con interferencias.\n",
        "\n",
        "El resultado de aplicar DFT a muestras no espaciadas puede ser visto como la convolución de la DFT para la data uniformemente muestreada con la DFT de la función de muestreo (en otras palabras la función que indica como se separa la función)\n",
        "\n",
        "Finalmente, la definición de la transformada de Fourier no uniforme está dada por la fórmula:\n",
        "\n",
        "$$ F(k1, k2) = \\frac{1}{N}\\sum_{j=0}^{N-1}f_j e^{-i(k1, k2)\\dot x_j}$$"
      ],
      "metadata": {
        "id": "ZvVkf8s_b_5R"
      }
    },
    {
      "cell_type": "code",
      "source": [],
      "metadata": {
        "id": "iplw8KLbrEli"
      },
      "execution_count": null,
      "outputs": []
    },
    {
      "cell_type": "code",
      "source": [],
      "metadata": {
        "id": "CgPgvheSfPxZ"
      },
      "execution_count": null,
      "outputs": []
    }
  ]
}